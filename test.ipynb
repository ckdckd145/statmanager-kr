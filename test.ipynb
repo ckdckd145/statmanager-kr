{
 "cells": [
  {
   "cell_type": "markdown",
   "metadata": {},
   "source": [
    "# [statmanager-kr](https://github.com/ckdckd145/statmanager-kr)\n",
    "\n",
    "[![pypi](https://badge.fury.io/py/statmanager-kr.svg?kill=cache)](https://badge.fury.io/py/statmanager-kr)\n"
   ]
  },
  {
   "cell_type": "markdown",
   "metadata": {},
   "source": [
    "<hr>"
   ]
  },
  {
   "cell_type": "markdown",
   "metadata": {},
   "source": [
    "### If you have not installed statmanager-kr, follow the steps below. "
   ]
  },
  {
   "cell_type": "code",
   "execution_count": null,
   "metadata": {},
   "outputs": [],
   "source": [
    "# If you have already installed statmanager-kr, do not run. Just skip. \n",
    "# If this not work, just trun on the terminal and enter pip install statmanager-kr \n",
    "\n",
    "\n",
    "pip install statmanager-kr"
   ]
  },
  {
   "cell_type": "markdown",
   "metadata": {},
   "source": [
    "<hr>   \n",
    "\n",
    "##### Before you start, make sure that you installed statmanager-kr and downloaded test data files via [github repository](https://github.com/ckdckd145/statmanager-kr).\n",
    "##### If not, download a folder named [\"testdata\"](https://github.com/ckdckd145/statmanager-kr/tree/main/testdata)."
   ]
  },
  {
   "cell_type": "markdown",
   "metadata": {},
   "source": [
    "##### If you need any more informations, click the link belows:   \n",
    "[Korean ver](https://cslee145.notion.site/fd776d4f9a4f4c9db2cf1bbe60726971?v=3b2b237555fc4cd3a41a8da337d80c01&pvs=4)   \n",
    "[English ver](https://cslee145.notion.site/60cbfcbc90614fe990e02ab8340630cc?v=4991650ae5ce4427a215d1043802f5c0&pvs=4)   \n",
    "\n",
    "<hr>"
   ]
  },
  {
   "cell_type": "code",
   "execution_count": null,
   "metadata": {},
   "outputs": [],
   "source": [
    "import pandas as pd                            # Don't forget to import pandas ! \n",
    "from statmanager import Stat_Manager           # importing statmanager-kr "
   ]
  },
  {
   "cell_type": "markdown",
   "metadata": {},
   "source": [
    "#### Checking dataframes"
   ]
  },
  {
   "cell_type": "code",
   "execution_count": null,
   "metadata": {},
   "outputs": [],
   "source": [
    "# making pandas.DataFrame \n",
    "\n",
    "df = pd.read_csv(r'testdata\\testdf.csv', index_col = 'id') \n",
    "df"
   ]
  },
  {
   "cell_type": "code",
   "execution_count": null,
   "metadata": {},
   "outputs": [],
   "source": [
    "# making difference df \n",
    "\n",
    "df2 = pd.read_csv(r'testdata\\testdf2.csv', index_col = 'id') \n",
    "df2"
   ]
  },
  {
   "cell_type": "markdown",
   "metadata": {},
   "source": [
    "<hr>\n",
    "\n",
    "#### Making Stat_Manager object"
   ]
  },
  {
   "cell_type": "code",
   "execution_count": null,
   "metadata": {},
   "outputs": [],
   "source": [
    "#making Stat_Manager() object\n",
    "\n",
    "sm = Stat_Manager(df, language='eng') "
   ]
  },
  {
   "cell_type": "markdown",
   "metadata": {},
   "source": [
    "#### Additional functions"
   ]
  },
  {
   "cell_type": "code",
   "execution_count": null,
   "metadata": {},
   "outputs": [],
   "source": [
    "# method for searching about how to use analyses via statmanager-kr \n",
    "# feel free to enter any keyword that you interested\n",
    "\n",
    "sm.howtouse() "
   ]
  },
  {
   "cell_type": "code",
   "execution_count": null,
   "metadata": {},
   "outputs": [],
   "source": [
    "# If you want to change language set as \"KOREAN\", run this cell. \n",
    "# This method can be used to change language set from \"KOREAN\" to \"ENGLISH\", of course. Just run sm.set_language('eng')\n",
    "\n",
    "sm.set_language('kor') "
   ]
  },
  {
   "cell_type": "code",
   "execution_count": null,
   "metadata": {},
   "outputs": [],
   "source": [
    "# Also, you can change dataframe \n",
    "\n",
    "sm.change_dataframe(df2)"
   ]
  },
  {
   "cell_type": "code",
   "execution_count": null,
   "metadata": {},
   "outputs": [],
   "source": [
    "# If you want to progress analysis only to a filtered dataset under certain conditions, you can use the 'selector' parameter in the .progress()\n",
    "# You can get information about how to use selector parameter, by running sm.howtouse('selector')\n",
    "\n",
    "sm.howtouse('selector')"
   ]
  },
  {
   "cell_type": "code",
   "execution_count": null,
   "metadata": {},
   "outputs": [],
   "source": [
    "# Of course, .howtouse(), set_language(), .change_dataframe() methods all can be used as 'chain-method'\n",
    "\n",
    "# if you want to change df and language\n",
    "sm.change_dataframe(df).set_language('eng')#.progress()  <-- this is also possible "
   ]
  },
  {
   "cell_type": "markdown",
   "metadata": {},
   "source": [
    "#### Analysis"
   ]
  },
  {
   "cell_type": "code",
   "execution_count": null,
   "metadata": {},
   "outputs": [],
   "source": [
    "# For example, if you want to know whether mean differences between prescore and postscore is significant or not ONLY in the 'test_group', you can run .progress() like this\n",
    "# This means that you run the dependent samples t-test only in the dataframe filtered by condition == test_group. \n",
    "\n",
    "sm.progress(method = 'ttest_rel', vars = ['prescore', 'postscore'], selector = {'condition' : 'test_group'})\n",
    "\n",
    "\n",
    "# If you want to delete that filtering condition, just delete selector argument and run again. Of course, it can be done with selector = None.\n",
    "# sm.progress(method = 'ttest_rel', vars = ['prescore', 'postscore'], selector = None)"
   ]
  },
  {
   "cell_type": "code",
   "execution_count": null,
   "metadata": {},
   "outputs": [],
   "source": [
    "#Independent Samples T-Test\n",
    "\n",
    "sm.progress(method = 'ttest_ind', vars = 'age', group_vars = 'sex')"
   ]
  },
  {
   "cell_type": "code",
   "execution_count": null,
   "metadata": {},
   "outputs": [],
   "source": [
    "# Independent Samples T-Test\n",
    "\n",
    "sm.progress(method = 'ttest_ind', vars = 'age', group_vars = 'sex')"
   ]
  },
  {
   "cell_type": "code",
   "execution_count": null,
   "metadata": {},
   "outputs": [],
   "source": [
    "# Yuen's t-test\n",
    "# Specify the trim ratio by appending it right after the 'ttest_ind_trim' you provide in the method argument. \n",
    "\n",
    "sm.progress(method = 'ttest_ind_trim', vars = 'age', group_vars = 'sex')"
   ]
  },
  {
   "cell_type": "code",
   "execution_count": null,
   "metadata": {},
   "outputs": [],
   "source": [
    "# kolmogorov-smirnov Test\n",
    "\n",
    "sm.progress(method = 'kstest', vars = 'age')"
   ]
  },
  {
   "cell_type": "code",
   "execution_count": null,
   "metadata": {},
   "outputs": [],
   "source": [
    "# Levene test between 'sex'\n",
    "\n",
    "sm.progress(method = 'levene', vars = 'age', group_vars = 'sex')"
   ]
  },
  {
   "cell_type": "code",
   "execution_count": null,
   "metadata": {},
   "outputs": [],
   "source": [
    "#Chi-squared test\n",
    "\n",
    "sm.progress(method = 'chi2_contingency', vars = ['sex', 'location'])"
   ]
  },
  {
   "cell_type": "code",
   "execution_count": null,
   "metadata": {},
   "outputs": [],
   "source": [
    "#Correlation test - Pearson's r\n",
    "\n",
    "sm.progress(method = 'pearsonr', vars = ['age', 'income', 'prescore', 'postscore'])"
   ]
  },
  {
   "cell_type": "code",
   "execution_count": null,
   "metadata": {},
   "outputs": [],
   "source": [
    "# Calculating Cronbach's Alpha\n",
    "\n",
    "sm.progress(method = 'cronbach', vars =['prescore', 'postscore', 'fupscore']) "
   ]
  },
  {
   "cell_type": "code",
   "execution_count": null,
   "metadata": {},
   "outputs": [],
   "source": [
    "# Bootstrap percentile method \n",
    "# Specify the resampling number by appending it right after the 'bootstrap' you provide in the method argument. \n",
    "# For example, if you want to specify the number of resampling as 10000, your method argument will be 'bootstrap10000'\n",
    "# If you want to run percentile method in the context of \"within group\", provide columns that you interested in 'vars' as 'list', such as vars = ['prescore', 'postscore']\n",
    "# Absolutely, you can run percentile method in the context of \"between groups\". Just provide colume that you interested in 'vars' as 'str' and specify group variable by providing 'group_vars'\n",
    "\n",
    "\n",
    "sm.progress(method = 'bootstrap10000', vars = ['prescore', 'postscore']) # --> \"within group\"\n",
    "# sm.progress(method = 'bootstrap10000', vars = 'prescore', group_vars = 'sex') --> \"betweeon group\""
   ]
  },
  {
   "cell_type": "code",
   "execution_count": null,
   "metadata": {},
   "outputs": [],
   "source": [
    "# One-way ANOVA without post-hoc test\n",
    "\n",
    "sm.progress(method ='f_oneway', vars = 'age', group_vars = 'condition')"
   ]
  },
  {
   "cell_type": "code",
   "execution_count": null,
   "metadata": {},
   "outputs": [],
   "source": [
    "# If you want to proceed posthoc analysis, just provide True in posthoc parameter\n",
    "\n",
    "sm.progress(method ='f_oneway', vars = 'age', group_vars = 'condition', posthoc = True)\n",
    "\n",
    "# Default setting of posthoc method is bonferroni correction. You can use Tukey HSD by providing 'tukey' in posthoc_method paramter. (default -> posthoc_method = 'bonf')\n",
    "# sm.progress(method ='f_oneway', vars = 'age', group_vars = 'condition', posthoc = True, posthoc_method = 'tukey') "
   ]
  },
  {
   "cell_type": "code",
   "execution_count": null,
   "metadata": {},
   "outputs": [],
   "source": [
    "# 2-way repeated measures ANOVA\n",
    "# If you proceed the posthoc analysis, it will compute every main-effect and interactions. You can see belows.\n",
    "\n",
    "sm.progress(method = 'f_nway_rm', vars = ['prescore', 'postscore', 'fupscore'], group_vars = 'condition', posthoc = True)"
   ]
  },
  {
   "cell_type": "code",
   "execution_count": null,
   "metadata": {},
   "outputs": [],
   "source": [
    "# Linear regression\n",
    "# In this analysis, vars must be coded like this -> vars = ['dependent variable', ['independent variable1', 'independent variable2', ... ,]]\n",
    "# Also, if you want to include categorical variables as independent variables, they must be dummy-coded, but this is not done automatically in current version. So, proceed aftering using other methods such as pd.get_dummies().\n",
    "\n",
    "sm.progress(method = 'linearr', vars = ['age', ['income', 'prescore', 'postscore']])"
   ]
  },
  {
   "cell_type": "code",
   "execution_count": null,
   "metadata": {},
   "outputs": [],
   "source": [
    "# Linear regression "
   ]
  },
  {
   "cell_type": "code",
   "execution_count": null,
   "metadata": {},
   "outputs": [],
   "source": [
    "# One-way ANCOVA\n",
    "# In this analysis, vars must be coded like this -> vars = ['dependent variable', ['covariate1', 'covariate2'] ]. (Like regression)\n",
    "\n",
    "sm.progress(method = 'oneway_ancova', vars = ['age', ['income']], group_vars = 'condition')\n",
    "\n",
    "# You can also proceed posthoc test by providing posthoc = True. But this is not recommended because in ANCOVA, pair-comparison must be proceed for EMMeans. So instead, checking 'Pair-Coef Result Table' would be better. "
   ]
  },
  {
   "cell_type": "markdown",
   "metadata": {},
   "source": [
    "<hr>"
   ]
  },
  {
   "cell_type": "markdown",
   "metadata": {},
   "source": [
    "#### Making figure/graph"
   ]
  },
  {
   "cell_type": "markdown",
   "metadata": {},
   "source": [
    "This functions will return `matplotlib.axes.Axes` object or `seabron.FacetGrid`   \n",
    "You can revise the characteristic of object returned by running `matplotlib` or `seabron` methods.   \n",
    "\n",
    "[Documenation : matplotlib.axes.Axes](https://matplotlib.org/stable/api/_as_gen/matplotlib.axes.Axes.html)   \n",
    "[Documenation : seaborn.FacetGrid](https://seaborn.pydata.org/generated/seaborn.FacetGrid.html)   "
   ]
  },
  {
   "cell_type": "code",
   "execution_count": null,
   "metadata": {},
   "outputs": [],
   "source": [
    "# If you want to make p-p plot, see examples below:\n",
    "\n",
    "sm.progress(method = 'pp_plot', vars = 'prescore')"
   ]
  },
  {
   "cell_type": "code",
   "execution_count": null,
   "metadata": {},
   "outputs": [],
   "source": [
    "# If you want to make q-q plot, see examples below:\n",
    "\n",
    "sm.progress(method = 'qq_plot', vars = 'prescore')"
   ]
  },
  {
   "cell_type": "code",
   "execution_count": null,
   "metadata": {},
   "outputs": [],
   "source": [
    "# Also, it is possible to draw graph/figure by chain-methoding in .progress() function\n",
    "\n",
    "# Example\n",
    "sm.progress(method = 'kstest', vars = 'age').figure()"
   ]
  },
  {
   "cell_type": "code",
   "execution_count": null,
   "metadata": {},
   "outputs": [],
   "source": [
    "# other examples..\n",
    "\n",
    "sm.progress(method = 'pearsonr', vars = ['prescore', 'postscore', 'fupscore']).figure()"
   ]
  },
  {
   "cell_type": "code",
   "execution_count": null,
   "metadata": {},
   "outputs": [],
   "source": [
    "# other examples..\n",
    "\n",
    "sm.progress(method = 'f_nway', vars = 'age', group_vars = ['sex', 'condition']).figure()"
   ]
  },
  {
   "cell_type": "markdown",
   "metadata": {},
   "source": [
    "<hr>   \n",
    "\n",
    "#### Copyright (C) Changseok Lee "
   ]
  }
 ],
 "metadata": {
  "kernelspec": {
   "display_name": "Python 3",
   "language": "python",
   "name": "python3"
  },
  "language_info": {
   "codemirror_mode": {
    "name": "ipython",
    "version": 3
   },
   "file_extension": ".py",
   "mimetype": "text/x-python",
   "name": "python",
   "nbconvert_exporter": "python",
   "pygments_lexer": "ipython3",
   "version": "3.11.4"
  },
  "orig_nbformat": 4
 },
 "nbformat": 4,
 "nbformat_minor": 2
}
